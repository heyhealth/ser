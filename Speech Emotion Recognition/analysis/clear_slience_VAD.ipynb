{
 "cells": [
  {
   "cell_type": "code",
   "execution_count": 1,
   "metadata": {
    "collapsed": true
   },
   "outputs": [],
   "source": [
    "import numpy as np\n",
    "from utils.speech_visualization import plot_waveform_use_torchaudio, plot_waveform,load_waveform_from_wav_use_torchaudio\n",
    "\n",
    "# Female05 impro neu\n",
    "wav_path1 = r\"E:\\Datasets\\IEMOCAP\\raw_unzip\\Session5\\sentences\\wav\\Ses05F_impro04\\Ses05F_impro04_F040.wav\"\n",
    "# Female05 impro sad\n",
    "wav_path2 = r\"E:\\Datasets\\IEMOCAP\\raw_unzip\\Session5\\sentences\\wav\\Ses05F_impro04\\Ses05F_impro04_M016.wav\"\n",
    "# Female05 impro hap\n",
    "wav_path3 = r\"E:\\Datasets\\IEMOCAP\\raw_unzip\\Session5\\sentences\\wav\\Ses05F_impro08\\Ses05F_impro08_M028.wav\"\n",
    "# Female05 impro ang\n",
    "wav_path4 = r\"E:\\Datasets\\IEMOCAP\\raw_unzip\\Session5\\sentences\\wav\\Ses05F_impro08\\Ses05F_impro08_M005.wav\"\n"
   ]
  },
  {
   "cell_type": "code",
   "execution_count": null,
   "outputs": [],
   "source": [],
   "metadata": {
    "collapsed": false,
    "pycharm": {
     "name": "#%%\n"
    }
   }
  }
 ],
 "metadata": {
  "kernelspec": {
   "display_name": "Python 3",
   "language": "python",
   "name": "python3"
  },
  "language_info": {
   "codemirror_mode": {
    "name": "ipython",
    "version": 2
   },
   "file_extension": ".py",
   "mimetype": "text/x-python",
   "name": "python",
   "nbconvert_exporter": "python",
   "pygments_lexer": "ipython2",
   "version": "2.7.6"
  }
 },
 "nbformat": 4,
 "nbformat_minor": 0
}